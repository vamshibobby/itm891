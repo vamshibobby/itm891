{
 "cells": [
  {
   "cell_type": "markdown",
   "metadata": {},
   "source": [
    "# Exercise 11: Proximity\n",
    "\n",
    "Objectives\n",
    "+ Demonstrate the ability to code algorithms from text desriptions\n",
    "+ Practice different types of (dis)similarity measures.\n",
    "\n",
    "In this exercise I'd like you to implement <ins>three functions</ins> to measure proximity or similarity:\n",
    "\n",
    "+ `euclidean_dist` which receives two 1-D numpy arrays and returns the Euclidian distance between the two\n",
    "+ `minkowski_dist` which receives two 1-D numpy arrays and a \"norm order\" and returns the distance between the two 1-D arrays\n",
    "+ `jaccard_sim` which receives two 1-D sparse arrays (0 and 1 valued only) and returns the jaccard similarity measure of the two\n",
    " \n",
    "\n",
    "Test your work as you go along.  You may use the [Euclidian](https://docs.scipy.org/doc/scipy/reference/generated/scipy.spatial.distance.euclidean.html#scipy.spatial.distance.euclidean), [Minkowski](https://docs.scipy.org/doc/scipy/reference/generated/scipy.spatial.distance.minkowski.html#scipy.spatial.distance.minkowski) and [Jaccard](https://docs.scipy.org/doc/scipy/reference/generated/scipy.spatial.distance.jaccard.html#scipy.spatial.distance.jaccard) methods in the `scipy.spatial.distance` [package](https://docs.scipy.org/doc/scipy/reference/spatial.distance.html) to assist your development.  (Do not use these in the solution, though.)  I recommend creating some test cases for each and then seeing if your solution matches the solution from the `scipy.spatial.distance` methods."
   ]
  },
  {
   "cell_type": "code",
   "execution_count": 1,
   "metadata": {},
   "outputs": [],
   "source": [
    "import numpy as np\n",
    "import scipy.spatial.distance as distance"
   ]
  },
  {
   "cell_type": "markdown",
   "metadata": {},
   "source": [
    "## Euclidean Distance"
   ]
  },
  {
   "cell_type": "code",
   "execution_count": 2,
   "metadata": {},
   "outputs": [],
   "source": [
    "def euclidean_dist(x,y):\n",
    "    if len(x) == len(y):\n",
    "        return sum((x[i] - y[i])**2 for i in range(0,len(x)))**0.5\n",
    "    else:\n",
    "        return \"The two arrays need to be same size!\""
   ]
  },
  {
   "cell_type": "code",
   "execution_count": 3,
   "metadata": {},
   "outputs": [
    {
     "name": "stdout",
     "output_type": "stream",
     "text": [
      "The euclidean distance calculated using function created is 40.9920473345346\n",
      "The euclidean distance calculated using scipy function is 40.99204733453462\n"
     ]
    }
   ],
   "source": [
    "a1 = np.random.rand((10000))\n",
    "a2 = np.random.rand((10000))\n",
    "print(f\"The euclidean distance calculated using function created is {euclidean_dist(a1,a2)}\")\n",
    "print(f\"The euclidean distance calculated using scipy function is {distance.euclidean(a1,a2)}\")"
   ]
  },
  {
   "cell_type": "markdown",
   "metadata": {},
   "source": [
    "## Minkowski Distance"
   ]
  },
  {
   "cell_type": "code",
   "execution_count": 4,
   "metadata": {},
   "outputs": [],
   "source": [
    "def minkowski_dist(x,y,p):\n",
    "    if len(x) == len(y):\n",
    "        return (sum(np.abs(x[i]-y[i])**p for i in range(0,len(x))))**(1/p)\n",
    "    else:\n",
    "        return \"The two arrays need to be same size!\"    "
   ]
  },
  {
   "cell_type": "code",
   "execution_count": 5,
   "metadata": {},
   "outputs": [
    {
     "name": "stdout",
     "output_type": "stream",
     "text": [
      "The minkowski distance calculated using function created is 3.421279789150257\n",
      "The minkowski distance calculated using scipy function is 3.4212797891502573\n"
     ]
    }
   ],
   "source": [
    "a1 = np.random.rand((10000))\n",
    "a2 = np.random.rand((10000))\n",
    "print(f\"The minkowski distance calculated using function created is {minkowski_dist(a1,a2,5)}\")\n",
    "print(f\"The minkowski distance calculated using scipy function is {distance.minkowski(a1,a2,5)}\")"
   ]
  },
  {
   "cell_type": "markdown",
   "metadata": {},
   "source": [
    "## Jaccard Similarity"
   ]
  },
  {
   "cell_type": "code",
   "execution_count": 6,
   "metadata": {},
   "outputs": [],
   "source": [
    "def jaccard_sim(x,y):\n",
    "    if len(x) == len(y) and all(k in (0,1) for k in x) and all(l in (0,1) for l in y):\n",
    "        sim11 = sum((x[i] == 1 and y[i] == 1) for i in range(len(x)))\n",
    "        sim00 = sum((x[i] == 0 and y[i] == 0) for i in range(len(x)))\n",
    "        return 1-sim11/(len(x)-sim00)\n",
    "    elif len(x) != len(y):\n",
    "        return \"The two arrays need to be same size!\"\n",
    "    else:\n",
    "        return \"Jaccard similarity require the arrays to be binary\""
   ]
  },
  {
   "cell_type": "code",
   "execution_count": 7,
   "metadata": {},
   "outputs": [
    {
     "name": "stdout",
     "output_type": "stream",
     "text": [
      "The jaccard similarity calculated using function created is 0.6672471533824514\n",
      "The jaccard similarity calculated using scipy function is 0.6672471533824514\n"
     ]
    }
   ],
   "source": [
    "a1 = np.random.choice([0,1],size=(10000))\n",
    "a2 = np.random.choice([0,1],size=(10000))\n",
    "print(f\"The jaccard similarity calculated using function created is {jaccard_sim(a1,a2)}\")\n",
    "print(f\"The jaccard similarity calculated using scipy function is {distance.jaccard(a1,a2)}\")"
   ]
  }
 ],
 "metadata": {
  "kernelspec": {
   "display_name": "Python 3",
   "language": "python",
   "name": "python3"
  },
  "language_info": {
   "codemirror_mode": {
    "name": "ipython",
    "version": 3
   },
   "file_extension": ".py",
   "mimetype": "text/x-python",
   "name": "python",
   "nbconvert_exporter": "python",
   "pygments_lexer": "ipython3",
   "version": "3.7.1"
  }
 },
 "nbformat": 4,
 "nbformat_minor": 2
}
