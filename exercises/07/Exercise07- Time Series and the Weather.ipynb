{
 "cells": [
  {
   "cell_type": "markdown",
   "metadata": {},
   "source": [
    "# Exercise07"
   ]
  },
  {
   "cell_type": "markdown",
   "metadata": {},
   "source": [
    "## Temperature Time Series\n",
    "\n",
    "I would like you to download the LAN-WX.csv file into your working directory for this notebook and use it for today's exercise.  Provided the page is up (it wasn't earlier), you can find documentation about each of the columns in the CSV file here: \n",
    "https://www1.ncdc.noaa.gov/pub/data/cdo/documentation/GHCND_documentation.pdf\n",
    "\n",
    "For the purposes of our exercise, we are most interested in these columns:\n",
    "* DATE\n",
    "* TMIN the minimum daily temperature\n",
    "* TMAX the maximum daily temperature\n",
    "\n",
    "I would like you to do the following:\n",
    "* As with today's lecture, convert the DATE column into a temporal-based index for the data frame.\n",
    "* Using this and the methods from today, I'd like you to do the following:\n",
    "    1. Display a table that shows the maximum daily temperatures for each month in the year 2013.\n",
    "    2. Find the maximum temperature in Lansing for the day of your birth and each birthday thereafter and plot it as a violin plot using Seaborn.\n",
    "    3. Find the decade maximum high and low temperature from 1950.  Plot both the maximum and minimum values as a single line plot.\n",
    "    4. This class started on Jaunary 11, 2020 and runs for 16 weeks. It meets on Mondays and Wednesdays. Use boxplots to plot the historical distribution from 1960 onward of high temperatures for each date we meet this semester.  In other words, plot the range of maximum temperatures for each (month,day) value in the 2020 course calendar across all years from 1960 onward.\n",
    "    5. The number of 90&deg;F days per year are often used to describe climate change.  Plot the average number of 90&deg;F days as a rolling average over 5 years across the entire data set. \n",
    "    \n",
    "**Create markdown cells to annotate your work using the directions above to create cells with level-2 headings** and the descriptions above in them.  (You do remember your Markdown?)\n",
    "\n",
    "Note:  You will likely have to use Google and the Pandas documnetation quite a bit to answer the questions above.  This is normal!  "
   ]
  },
  {
   "cell_type": "code",
   "execution_count": 1,
   "metadata": {},
   "outputs": [],
   "source": [
    "import pandas as pd\n",
    "import datetime\n",
    "import dateutil\n",
    "import seaborn as sns\n",
    "import matplotlib.pyplot as plt"
   ]
  },
  {
   "cell_type": "markdown",
   "metadata": {},
   "source": [
    "Reading the weather data"
   ]
  },
  {
   "cell_type": "code",
   "execution_count": 2,
   "metadata": {},
   "outputs": [
    {
     "data": {
      "text/html": [
       "<div>\n",
       "<style scoped>\n",
       "    .dataframe tbody tr th:only-of-type {\n",
       "        vertical-align: middle;\n",
       "    }\n",
       "\n",
       "    .dataframe tbody tr th {\n",
       "        vertical-align: top;\n",
       "    }\n",
       "\n",
       "    .dataframe thead th {\n",
       "        text-align: right;\n",
       "    }\n",
       "</style>\n",
       "<table border=\"1\" class=\"dataframe\">\n",
       "  <thead>\n",
       "    <tr style=\"text-align: right;\">\n",
       "      <th></th>\n",
       "      <th>STATION</th>\n",
       "      <th>NAME</th>\n",
       "      <th>DATE</th>\n",
       "      <th>PRCP</th>\n",
       "      <th>PSUN</th>\n",
       "      <th>SNOW</th>\n",
       "      <th>SNWD</th>\n",
       "      <th>TAVG</th>\n",
       "      <th>TMAX</th>\n",
       "      <th>TMIN</th>\n",
       "      <th>...</th>\n",
       "      <th>WT13</th>\n",
       "      <th>WT14</th>\n",
       "      <th>WT15</th>\n",
       "      <th>WT16</th>\n",
       "      <th>WT17</th>\n",
       "      <th>WT18</th>\n",
       "      <th>WT19</th>\n",
       "      <th>WT21</th>\n",
       "      <th>WT22</th>\n",
       "      <th>WV03</th>\n",
       "    </tr>\n",
       "  </thead>\n",
       "  <tbody>\n",
       "    <tr>\n",
       "      <th>0</th>\n",
       "      <td>USW00014836</td>\n",
       "      <td>LANSING CAPITAL CITY AIRPORT, MI US</td>\n",
       "      <td>1950-01-01</td>\n",
       "      <td>0.01</td>\n",
       "      <td>NaN</td>\n",
       "      <td>0.0</td>\n",
       "      <td>0.0</td>\n",
       "      <td>NaN</td>\n",
       "      <td>45.0</td>\n",
       "      <td>38.0</td>\n",
       "      <td>...</td>\n",
       "      <td>NaN</td>\n",
       "      <td>NaN</td>\n",
       "      <td>NaN</td>\n",
       "      <td>1.0</td>\n",
       "      <td>NaN</td>\n",
       "      <td>NaN</td>\n",
       "      <td>NaN</td>\n",
       "      <td>NaN</td>\n",
       "      <td>NaN</td>\n",
       "      <td>NaN</td>\n",
       "    </tr>\n",
       "    <tr>\n",
       "      <th>1</th>\n",
       "      <td>USW00014836</td>\n",
       "      <td>LANSING CAPITAL CITY AIRPORT, MI US</td>\n",
       "      <td>1950-01-02</td>\n",
       "      <td>0.14</td>\n",
       "      <td>NaN</td>\n",
       "      <td>0.0</td>\n",
       "      <td>0.0</td>\n",
       "      <td>NaN</td>\n",
       "      <td>49.0</td>\n",
       "      <td>44.0</td>\n",
       "      <td>...</td>\n",
       "      <td>NaN</td>\n",
       "      <td>NaN</td>\n",
       "      <td>NaN</td>\n",
       "      <td>1.0</td>\n",
       "      <td>NaN</td>\n",
       "      <td>NaN</td>\n",
       "      <td>NaN</td>\n",
       "      <td>NaN</td>\n",
       "      <td>NaN</td>\n",
       "      <td>NaN</td>\n",
       "    </tr>\n",
       "    <tr>\n",
       "      <th>2</th>\n",
       "      <td>USW00014836</td>\n",
       "      <td>LANSING CAPITAL CITY AIRPORT, MI US</td>\n",
       "      <td>1950-01-03</td>\n",
       "      <td>0.63</td>\n",
       "      <td>NaN</td>\n",
       "      <td>0.0</td>\n",
       "      <td>0.0</td>\n",
       "      <td>NaN</td>\n",
       "      <td>58.0</td>\n",
       "      <td>49.0</td>\n",
       "      <td>...</td>\n",
       "      <td>NaN</td>\n",
       "      <td>NaN</td>\n",
       "      <td>NaN</td>\n",
       "      <td>1.0</td>\n",
       "      <td>NaN</td>\n",
       "      <td>NaN</td>\n",
       "      <td>NaN</td>\n",
       "      <td>NaN</td>\n",
       "      <td>NaN</td>\n",
       "      <td>NaN</td>\n",
       "    </tr>\n",
       "    <tr>\n",
       "      <th>3</th>\n",
       "      <td>USW00014836</td>\n",
       "      <td>LANSING CAPITAL CITY AIRPORT, MI US</td>\n",
       "      <td>1950-01-04</td>\n",
       "      <td>0.17</td>\n",
       "      <td>NaN</td>\n",
       "      <td>0.0</td>\n",
       "      <td>0.0</td>\n",
       "      <td>NaN</td>\n",
       "      <td>53.0</td>\n",
       "      <td>19.0</td>\n",
       "      <td>...</td>\n",
       "      <td>NaN</td>\n",
       "      <td>NaN</td>\n",
       "      <td>NaN</td>\n",
       "      <td>1.0</td>\n",
       "      <td>NaN</td>\n",
       "      <td>1.0</td>\n",
       "      <td>NaN</td>\n",
       "      <td>NaN</td>\n",
       "      <td>NaN</td>\n",
       "      <td>NaN</td>\n",
       "    </tr>\n",
       "    <tr>\n",
       "      <th>4</th>\n",
       "      <td>USW00014836</td>\n",
       "      <td>LANSING CAPITAL CITY AIRPORT, MI US</td>\n",
       "      <td>1950-01-05</td>\n",
       "      <td>0.00</td>\n",
       "      <td>NaN</td>\n",
       "      <td>0.0</td>\n",
       "      <td>0.0</td>\n",
       "      <td>NaN</td>\n",
       "      <td>25.0</td>\n",
       "      <td>20.0</td>\n",
       "      <td>...</td>\n",
       "      <td>NaN</td>\n",
       "      <td>NaN</td>\n",
       "      <td>NaN</td>\n",
       "      <td>NaN</td>\n",
       "      <td>NaN</td>\n",
       "      <td>1.0</td>\n",
       "      <td>NaN</td>\n",
       "      <td>NaN</td>\n",
       "      <td>NaN</td>\n",
       "      <td>NaN</td>\n",
       "    </tr>\n",
       "  </tbody>\n",
       "</table>\n",
       "<p>5 rows × 32 columns</p>\n",
       "</div>"
      ],
      "text/plain": [
       "       STATION                                 NAME        DATE  PRCP  PSUN  \\\n",
       "0  USW00014836  LANSING CAPITAL CITY AIRPORT, MI US  1950-01-01  0.01   NaN   \n",
       "1  USW00014836  LANSING CAPITAL CITY AIRPORT, MI US  1950-01-02  0.14   NaN   \n",
       "2  USW00014836  LANSING CAPITAL CITY AIRPORT, MI US  1950-01-03  0.63   NaN   \n",
       "3  USW00014836  LANSING CAPITAL CITY AIRPORT, MI US  1950-01-04  0.17   NaN   \n",
       "4  USW00014836  LANSING CAPITAL CITY AIRPORT, MI US  1950-01-05  0.00   NaN   \n",
       "\n",
       "   SNOW  SNWD  TAVG  TMAX  TMIN  ...  WT13  WT14  WT15  WT16  WT17  WT18  \\\n",
       "0   0.0   0.0   NaN  45.0  38.0  ...   NaN   NaN   NaN   1.0   NaN   NaN   \n",
       "1   0.0   0.0   NaN  49.0  44.0  ...   NaN   NaN   NaN   1.0   NaN   NaN   \n",
       "2   0.0   0.0   NaN  58.0  49.0  ...   NaN   NaN   NaN   1.0   NaN   NaN   \n",
       "3   0.0   0.0   NaN  53.0  19.0  ...   NaN   NaN   NaN   1.0   NaN   1.0   \n",
       "4   0.0   0.0   NaN  25.0  20.0  ...   NaN   NaN   NaN   NaN   NaN   1.0   \n",
       "\n",
       "   WT19  WT21  WT22  WV03  \n",
       "0   NaN   NaN   NaN   NaN  \n",
       "1   NaN   NaN   NaN   NaN  \n",
       "2   NaN   NaN   NaN   NaN  \n",
       "3   NaN   NaN   NaN   NaN  \n",
       "4   NaN   NaN   NaN   NaN  \n",
       "\n",
       "[5 rows x 32 columns]"
      ]
     },
     "execution_count": 2,
     "metadata": {},
     "output_type": "execute_result"
    }
   ],
   "source": [
    "data = pd.read_csv(\"LAN-WX.csv\")\n",
    "data.head()"
   ]
  },
  {
   "cell_type": "markdown",
   "metadata": {},
   "source": [
    "Convert the DATE column into a temporal-based index for the data frame."
   ]
  },
  {
   "cell_type": "code",
   "execution_count": 3,
   "metadata": {
    "scrolled": true
   },
   "outputs": [
    {
     "data": {
      "text/html": [
       "<div>\n",
       "<style scoped>\n",
       "    .dataframe tbody tr th:only-of-type {\n",
       "        vertical-align: middle;\n",
       "    }\n",
       "\n",
       "    .dataframe tbody tr th {\n",
       "        vertical-align: top;\n",
       "    }\n",
       "\n",
       "    .dataframe thead th {\n",
       "        text-align: right;\n",
       "    }\n",
       "</style>\n",
       "<table border=\"1\" class=\"dataframe\">\n",
       "  <thead>\n",
       "    <tr style=\"text-align: right;\">\n",
       "      <th></th>\n",
       "      <th>STATION</th>\n",
       "      <th>NAME</th>\n",
       "      <th>PRCP</th>\n",
       "      <th>PSUN</th>\n",
       "      <th>SNOW</th>\n",
       "      <th>SNWD</th>\n",
       "      <th>TAVG</th>\n",
       "      <th>TMAX</th>\n",
       "      <th>TMIN</th>\n",
       "      <th>TSUN</th>\n",
       "      <th>...</th>\n",
       "      <th>WT13</th>\n",
       "      <th>WT14</th>\n",
       "      <th>WT15</th>\n",
       "      <th>WT16</th>\n",
       "      <th>WT17</th>\n",
       "      <th>WT18</th>\n",
       "      <th>WT19</th>\n",
       "      <th>WT21</th>\n",
       "      <th>WT22</th>\n",
       "      <th>WV03</th>\n",
       "    </tr>\n",
       "    <tr>\n",
       "      <th>date</th>\n",
       "      <th></th>\n",
       "      <th></th>\n",
       "      <th></th>\n",
       "      <th></th>\n",
       "      <th></th>\n",
       "      <th></th>\n",
       "      <th></th>\n",
       "      <th></th>\n",
       "      <th></th>\n",
       "      <th></th>\n",
       "      <th></th>\n",
       "      <th></th>\n",
       "      <th></th>\n",
       "      <th></th>\n",
       "      <th></th>\n",
       "      <th></th>\n",
       "      <th></th>\n",
       "      <th></th>\n",
       "      <th></th>\n",
       "      <th></th>\n",
       "      <th></th>\n",
       "    </tr>\n",
       "  </thead>\n",
       "  <tbody>\n",
       "    <tr>\n",
       "      <th>1950-01-01</th>\n",
       "      <td>USW00014836</td>\n",
       "      <td>LANSING CAPITAL CITY AIRPORT, MI US</td>\n",
       "      <td>0.01</td>\n",
       "      <td>NaN</td>\n",
       "      <td>0.0</td>\n",
       "      <td>0.0</td>\n",
       "      <td>NaN</td>\n",
       "      <td>45.0</td>\n",
       "      <td>38.0</td>\n",
       "      <td>NaN</td>\n",
       "      <td>...</td>\n",
       "      <td>NaN</td>\n",
       "      <td>NaN</td>\n",
       "      <td>NaN</td>\n",
       "      <td>1.0</td>\n",
       "      <td>NaN</td>\n",
       "      <td>NaN</td>\n",
       "      <td>NaN</td>\n",
       "      <td>NaN</td>\n",
       "      <td>NaN</td>\n",
       "      <td>NaN</td>\n",
       "    </tr>\n",
       "    <tr>\n",
       "      <th>1950-01-02</th>\n",
       "      <td>USW00014836</td>\n",
       "      <td>LANSING CAPITAL CITY AIRPORT, MI US</td>\n",
       "      <td>0.14</td>\n",
       "      <td>NaN</td>\n",
       "      <td>0.0</td>\n",
       "      <td>0.0</td>\n",
       "      <td>NaN</td>\n",
       "      <td>49.0</td>\n",
       "      <td>44.0</td>\n",
       "      <td>NaN</td>\n",
       "      <td>...</td>\n",
       "      <td>NaN</td>\n",
       "      <td>NaN</td>\n",
       "      <td>NaN</td>\n",
       "      <td>1.0</td>\n",
       "      <td>NaN</td>\n",
       "      <td>NaN</td>\n",
       "      <td>NaN</td>\n",
       "      <td>NaN</td>\n",
       "      <td>NaN</td>\n",
       "      <td>NaN</td>\n",
       "    </tr>\n",
       "    <tr>\n",
       "      <th>1950-01-03</th>\n",
       "      <td>USW00014836</td>\n",
       "      <td>LANSING CAPITAL CITY AIRPORT, MI US</td>\n",
       "      <td>0.63</td>\n",
       "      <td>NaN</td>\n",
       "      <td>0.0</td>\n",
       "      <td>0.0</td>\n",
       "      <td>NaN</td>\n",
       "      <td>58.0</td>\n",
       "      <td>49.0</td>\n",
       "      <td>NaN</td>\n",
       "      <td>...</td>\n",
       "      <td>NaN</td>\n",
       "      <td>NaN</td>\n",
       "      <td>NaN</td>\n",
       "      <td>1.0</td>\n",
       "      <td>NaN</td>\n",
       "      <td>NaN</td>\n",
       "      <td>NaN</td>\n",
       "      <td>NaN</td>\n",
       "      <td>NaN</td>\n",
       "      <td>NaN</td>\n",
       "    </tr>\n",
       "    <tr>\n",
       "      <th>1950-01-04</th>\n",
       "      <td>USW00014836</td>\n",
       "      <td>LANSING CAPITAL CITY AIRPORT, MI US</td>\n",
       "      <td>0.17</td>\n",
       "      <td>NaN</td>\n",
       "      <td>0.0</td>\n",
       "      <td>0.0</td>\n",
       "      <td>NaN</td>\n",
       "      <td>53.0</td>\n",
       "      <td>19.0</td>\n",
       "      <td>NaN</td>\n",
       "      <td>...</td>\n",
       "      <td>NaN</td>\n",
       "      <td>NaN</td>\n",
       "      <td>NaN</td>\n",
       "      <td>1.0</td>\n",
       "      <td>NaN</td>\n",
       "      <td>1.0</td>\n",
       "      <td>NaN</td>\n",
       "      <td>NaN</td>\n",
       "      <td>NaN</td>\n",
       "      <td>NaN</td>\n",
       "    </tr>\n",
       "    <tr>\n",
       "      <th>1950-01-05</th>\n",
       "      <td>USW00014836</td>\n",
       "      <td>LANSING CAPITAL CITY AIRPORT, MI US</td>\n",
       "      <td>0.00</td>\n",
       "      <td>NaN</td>\n",
       "      <td>0.0</td>\n",
       "      <td>0.0</td>\n",
       "      <td>NaN</td>\n",
       "      <td>25.0</td>\n",
       "      <td>20.0</td>\n",
       "      <td>NaN</td>\n",
       "      <td>...</td>\n",
       "      <td>NaN</td>\n",
       "      <td>NaN</td>\n",
       "      <td>NaN</td>\n",
       "      <td>NaN</td>\n",
       "      <td>NaN</td>\n",
       "      <td>1.0</td>\n",
       "      <td>NaN</td>\n",
       "      <td>NaN</td>\n",
       "      <td>NaN</td>\n",
       "      <td>NaN</td>\n",
       "    </tr>\n",
       "  </tbody>\n",
       "</table>\n",
       "<p>5 rows × 31 columns</p>\n",
       "</div>"
      ],
      "text/plain": [
       "                STATION                                 NAME  PRCP  PSUN  \\\n",
       "date                                                                       \n",
       "1950-01-01  USW00014836  LANSING CAPITAL CITY AIRPORT, MI US  0.01   NaN   \n",
       "1950-01-02  USW00014836  LANSING CAPITAL CITY AIRPORT, MI US  0.14   NaN   \n",
       "1950-01-03  USW00014836  LANSING CAPITAL CITY AIRPORT, MI US  0.63   NaN   \n",
       "1950-01-04  USW00014836  LANSING CAPITAL CITY AIRPORT, MI US  0.17   NaN   \n",
       "1950-01-05  USW00014836  LANSING CAPITAL CITY AIRPORT, MI US  0.00   NaN   \n",
       "\n",
       "            SNOW  SNWD  TAVG  TMAX  TMIN  TSUN  ...  WT13  WT14  WT15  WT16  \\\n",
       "date                                            ...                           \n",
       "1950-01-01   0.0   0.0   NaN  45.0  38.0   NaN  ...   NaN   NaN   NaN   1.0   \n",
       "1950-01-02   0.0   0.0   NaN  49.0  44.0   NaN  ...   NaN   NaN   NaN   1.0   \n",
       "1950-01-03   0.0   0.0   NaN  58.0  49.0   NaN  ...   NaN   NaN   NaN   1.0   \n",
       "1950-01-04   0.0   0.0   NaN  53.0  19.0   NaN  ...   NaN   NaN   NaN   1.0   \n",
       "1950-01-05   0.0   0.0   NaN  25.0  20.0   NaN  ...   NaN   NaN   NaN   NaN   \n",
       "\n",
       "            WT17  WT18  WT19  WT21  WT22  WV03  \n",
       "date                                            \n",
       "1950-01-01   NaN   NaN   NaN   NaN   NaN   NaN  \n",
       "1950-01-02   NaN   NaN   NaN   NaN   NaN   NaN  \n",
       "1950-01-03   NaN   NaN   NaN   NaN   NaN   NaN  \n",
       "1950-01-04   NaN   1.0   NaN   NaN   NaN   NaN  \n",
       "1950-01-05   NaN   1.0   NaN   NaN   NaN   NaN  \n",
       "\n",
       "[5 rows x 31 columns]"
      ]
     },
     "execution_count": 3,
     "metadata": {},
     "output_type": "execute_result"
    }
   ],
   "source": [
    "data['date'] = pd.to_datetime(data['DATE'],format=\"%Y-%m-%d\")\n",
    "data = data.set_index(['date'])\n",
    "data = data.drop([\"DATE\"],axis=1)\n",
    "data.head()"
   ]
  },
  {
   "cell_type": "markdown",
   "metadata": {},
   "source": [
    "## Question 1\n",
    "\n",
    "Display a table that shows the maximum daily temperatures for each month in the year 2013."
   ]
  },
  {
   "cell_type": "code",
   "execution_count": 4,
   "metadata": {},
   "outputs": [
    {
     "data": {
      "text/plain": [
       "date\n",
       "2013-01-31    58.0\n",
       "2013-02-28    46.0\n",
       "2013-03-31    56.0\n",
       "2013-04-30    74.0\n",
       "2013-05-31    88.0\n",
       "2013-06-30    88.0\n",
       "2013-07-31    94.0\n",
       "2013-08-31    89.0\n",
       "2013-09-30    92.0\n",
       "2013-10-31    80.0\n",
       "2013-11-30    63.0\n",
       "2013-12-31    59.0\n",
       "Freq: M, Name: TMAX, dtype: float64"
      ]
     },
     "execution_count": 4,
     "metadata": {},
     "output_type": "execute_result"
    }
   ],
   "source": [
    "data[data.index.year == 2013][\"TMAX\"].resample('M').agg('max')"
   ]
  },
  {
   "cell_type": "markdown",
   "metadata": {},
   "source": [
    "## Question 2\n",
    "\n",
    "Find the maximum temperature in Lansing for the day of your birth and each birthday thereafter and plot it as a violin plot using Seaborn."
   ]
  },
  {
   "cell_type": "code",
   "execution_count": 5,
   "metadata": {},
   "outputs": [
    {
     "data": {
      "image/png": "[encoded data removed]",
      "text/plain": [
       "<Figure size 432x288 with 1 Axes>"
      ]
     },
     "metadata": {
      "needs_background": "light"
     },
     "output_type": "display_data"
    }
   ],
   "source": [
    "sns.violinplot(x=data[(data.index.month == 7) & (data.index.day == 18) & (data.index.year >= 1996)][\"TMAX\"])\n",
    "plt.show()"
   ]
  },
  {
   "cell_type": "markdown",
   "metadata": {},
   "source": [
    "## Question 3\n",
    "\n",
    "Find the decade maximum high and low temperature from 1950.  Plot both the maximum and minimum values as a single line plot."
   ]
  },
  {
   "cell_type": "code",
   "execution_count": 6,
   "metadata": {},
   "outputs": [
    {
     "data": {
      "image/png": "[encoded data removed]",
      "text/plain": [
       "<Figure size 432x288 with 1 Axes>"
      ]
     },
     "metadata": {
      "needs_background": "light"
     },
     "output_type": "display_data"
    }
   ],
   "source": [
    "pd.concat([data[\"TMAX\"].resample('10Y').agg('max'),data[\"TMIN\"].resample('10Y').agg('min')],axis=1).plot()\n",
    "plt.show()"
   ]
  },
  {
   "cell_type": "markdown",
   "metadata": {},
   "source": [
    "## Question 4\n",
    "\n",
    "This class started on Jaunary 11, 2020 and runs for 16 weeks. It meets on Mondays and Wednesdays. Use boxplots to plot the historical distribution from 1960 onward of high temperatures for each date we meet this semester.  In other words, plot the range of maximum temperatures for each (month,day) value in the 2020 course calendar across all years from 1960 onward."
   ]
  },
  {
   "cell_type": "code",
   "execution_count": 7,
   "metadata": {},
   "outputs": [
    {
     "data": {
      "image/png": "[encoded data removed]",
      "text/plain": [
       "<Figure size 1152x576 with 1 Axes>"
      ]
     },
     "metadata": {
      "needs_background": "light"
     },
     "output_type": "display_data"
    }
   ],
   "source": [
    "#Get all the class dates in 2020\n",
    "class_days=[str(i.date()) for i in pd.bdate_range(start=\"2020-01-11\",periods=32,freq=\"C\",weekmask=\"Mon Wed\")]\n",
    "#Loop through all the class days and save the last 60 years yearly frequent dates\n",
    "hist_days = [pd.date_range(end=j,periods=datetime.datetime.strptime(j,\"%Y-%m-%d\").year - 1960,freq=pd.DateOffset(years=1)) for j in class_days]\n",
    "#Converting the above list into a list with the class dates in the last 60 years\n",
    "hist_days_final = [str(i.date()) for a in hist_days for i in a]\n",
    "#Filtering out the dates from the original dataset\n",
    "data_q4 = data[data.index.isin(hist_days_final)][\"TMAX\"].copy()\n",
    "#Create a (month,day) column to create a subplot\n",
    "data_q4 = pd.concat([data_q4,pd.Series(data_q4.index.strftime('%b-%d'),index=data_q4.index)],axis=1)\n",
    "#Change the column names\n",
    "data_q4.columns = [\"Max temp\",\"Month,Day\"]\n",
    "#Increasing the figure size\n",
    "plt.subplots(figsize=(16,8))\n",
    "#Boxplot \n",
    "sns.boxplot(y=\"Max temp\",x=\"Month,Day\",data=data_q4)\n",
    "#Rotating the x ticks\n",
    "plt.xticks(rotation=45)\n",
    "plt.show()"
   ]
  },
  {
   "cell_type": "markdown",
   "metadata": {},
   "source": [
    "## Question 5\n",
    "\n",
    "The number of 90&deg;F days per year are often used to describe climate change.  Plot the average number of 90&deg;F days as a rolling average over 5 years across the entire data set. "
   ]
  },
  {
   "cell_type": "code",
   "execution_count": 8,
   "metadata": {},
   "outputs": [
    {
     "data": {
      "image/png": "[encoded data removed]",
      "text/plain": [
       "<Figure size 432x288 with 1 Axes>"
      ]
     },
     "metadata": {
      "needs_background": "light"
     },
     "output_type": "display_data"
    }
   ],
   "source": [
    "data[data.TMAX >= 90].groupby(data[data.TMAX >= 90].index.year)[\"NAME\"].count().rolling(5).mean().plot()\n",
    "plt.show()"
   ]
  }
 ],
 "metadata": {
  "kernelspec": {
   "display_name": "Python 3",
   "language": "python",
   "name": "python3"
  },
  "language_info": {
   "codemirror_mode": {
    "name": "ipython",
    "version": 3
   },
   "file_extension": ".py",
   "mimetype": "text/x-python",
   "name": "python",
   "nbconvert_exporter": "python",
   "pygments_lexer": "ipython3",
   "version": "3.7.1"
  }
 },
 "nbformat": 4,
 "nbformat_minor": 2
}
