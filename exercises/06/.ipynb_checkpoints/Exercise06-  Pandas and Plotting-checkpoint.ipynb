{
 "cells": [
  {
   "cell_type": "markdown",
   "metadata": {},
   "source": [
    "# Exercise06: Pandas and Plotting\n",
    "\n",
    "Required packages:\n",
    "* pandas\n",
    "* seaborn\n",
    "* scipy\n",
    "\n",
    "Objectives:\n",
    "* Get experience working with pandas data frames\n",
    "* Handling missing data\n",
    "* Plotting data using seaborn\n",
    "* Performing a quick statistical test to test a hypothesis\n",
    "\n",
    "In this exercise I'd like you to work with the data you generated in PointyGame, `treatments.csv`.  We are going to load this data into a Pandas' DataFrame and perform a quick analysis on the data.  If you don't have a `treatments.csv` available, use the one that may be found with this notebook on Google Drive.\n",
    "\n",
    "In the end, I'd like you to be able to answer the question:  (Given our assumptions), is one of the strategies better at playing PointyGame than the others?\n",
    "\n",
    "Due: End of the day, Saturday, 13 February."
   ]
  },
  {
   "cell_type": "code",
   "execution_count": 1,
   "metadata": {},
   "outputs": [],
   "source": [
    "%matplotlib inline\n",
    "import pandas as pd\n",
    "import matplotlib.pyplot as plt\n",
    "import seaborn as sns\n",
    "import numpy as np\n",
    "from scipy.stats import mannwhitneyu"
   ]
  },
  {
   "cell_type": "markdown",
   "metadata": {},
   "source": [
    "## Load the treatments.csv file into a DataFrame"
   ]
  },
  {
   "cell_type": "code",
   "execution_count": 2,
   "metadata": {},
   "outputs": [
    {
     "data": {
      "text/html": [
       "<div>\n",
       "<style scoped>\n",
       "    .dataframe tbody tr th:only-of-type {\n",
       "        vertical-align: middle;\n",
       "    }\n",
       "\n",
       "    .dataframe tbody tr th {\n",
       "        vertical-align: top;\n",
       "    }\n",
       "\n",
       "    .dataframe thead th {\n",
       "        text-align: right;\n",
       "    }\n",
       "</style>\n",
       "<table border=\"1\" class=\"dataframe\">\n",
       "  <thead>\n",
       "    <tr style=\"text-align: right;\">\n",
       "      <th></th>\n",
       "      <th>treatment</th>\n",
       "      <th>replicate</th>\n",
       "      <th>step</th>\n",
       "      <th>creature_x</th>\n",
       "      <th>creature_y</th>\n",
       "      <th>score</th>\n",
       "    </tr>\n",
       "  </thead>\n",
       "  <tbody>\n",
       "    <tr>\n",
       "      <th>0</th>\n",
       "      <td>play_greedily</td>\n",
       "      <td>0</td>\n",
       "      <td>0</td>\n",
       "      <td>4</td>\n",
       "      <td>4</td>\n",
       "      <td>1000</td>\n",
       "    </tr>\n",
       "    <tr>\n",
       "      <th>1</th>\n",
       "      <td>play_greedily</td>\n",
       "      <td>0</td>\n",
       "      <td>1</td>\n",
       "      <td>4</td>\n",
       "      <td>3</td>\n",
       "      <td>1140</td>\n",
       "    </tr>\n",
       "    <tr>\n",
       "      <th>2</th>\n",
       "      <td>play_greedily</td>\n",
       "      <td>0</td>\n",
       "      <td>2</td>\n",
       "      <td>4</td>\n",
       "      <td>2</td>\n",
       "      <td>1130</td>\n",
       "    </tr>\n",
       "    <tr>\n",
       "      <th>3</th>\n",
       "      <td>play_greedily</td>\n",
       "      <td>0</td>\n",
       "      <td>3</td>\n",
       "      <td>4</td>\n",
       "      <td>2</td>\n",
       "      <td>1125</td>\n",
       "    </tr>\n",
       "    <tr>\n",
       "      <th>4</th>\n",
       "      <td>play_greedily</td>\n",
       "      <td>0</td>\n",
       "      <td>4</td>\n",
       "      <td>3</td>\n",
       "      <td>2</td>\n",
       "      <td>1215</td>\n",
       "    </tr>\n",
       "  </tbody>\n",
       "</table>\n",
       "</div>"
      ],
      "text/plain": [
       "       treatment  replicate  step  creature_x  creature_y  score\n",
       "0  play_greedily          0     0           4           4   1000\n",
       "1  play_greedily          0     1           4           3   1140\n",
       "2  play_greedily          0     2           4           2   1130\n",
       "3  play_greedily          0     3           4           2   1125\n",
       "4  play_greedily          0     4           3           2   1215"
      ]
     },
     "execution_count": 2,
     "metadata": {},
     "output_type": "execute_result"
    }
   ],
   "source": [
    "treatments = pd.read_csv(\"treatments.csv\")\n",
    "treatments.head()"
   ]
  },
  {
   "cell_type": "markdown",
   "metadata": {},
   "source": [
    "## Explore the data\n",
    "\n",
    "+ Describe it\n",
    "+ What are the columns, data types?\n",
    "    - Are these nominal, categorical, interval, ratio type(s)?\n",
    "    - Are these values discrete or continuous?\n",
    "+ How many entries are there?\n"
   ]
  },
  {
   "cell_type": "code",
   "execution_count": 3,
   "metadata": {},
   "outputs": [
    {
     "data": {
      "text/html": [
       "<div>\n",
       "<style scoped>\n",
       "    .dataframe tbody tr th:only-of-type {\n",
       "        vertical-align: middle;\n",
       "    }\n",
       "\n",
       "    .dataframe tbody tr th {\n",
       "        vertical-align: top;\n",
       "    }\n",
       "\n",
       "    .dataframe thead th {\n",
       "        text-align: right;\n",
       "    }\n",
       "</style>\n",
       "<table border=\"1\" class=\"dataframe\">\n",
       "  <thead>\n",
       "    <tr style=\"text-align: right;\">\n",
       "      <th></th>\n",
       "      <th>replicate</th>\n",
       "      <th>step</th>\n",
       "      <th>creature_x</th>\n",
       "      <th>creature_y</th>\n",
       "      <th>score</th>\n",
       "    </tr>\n",
       "  </thead>\n",
       "  <tbody>\n",
       "    <tr>\n",
       "      <th>count</th>\n",
       "      <td>9090.000000</td>\n",
       "      <td>9090.000000</td>\n",
       "      <td>9090.000000</td>\n",
       "      <td>9090.000000</td>\n",
       "      <td>9090.000000</td>\n",
       "    </tr>\n",
       "    <tr>\n",
       "      <th>mean</th>\n",
       "      <td>14.500000</td>\n",
       "      <td>50.000000</td>\n",
       "      <td>4.388229</td>\n",
       "      <td>3.617602</td>\n",
       "      <td>1058.422992</td>\n",
       "    </tr>\n",
       "    <tr>\n",
       "      <th>std</th>\n",
       "      <td>8.655918</td>\n",
       "      <td>29.156363</td>\n",
       "      <td>2.664521</td>\n",
       "      <td>2.695105</td>\n",
       "      <td>355.054123</td>\n",
       "    </tr>\n",
       "    <tr>\n",
       "      <th>min</th>\n",
       "      <td>0.000000</td>\n",
       "      <td>0.000000</td>\n",
       "      <td>0.000000</td>\n",
       "      <td>0.000000</td>\n",
       "      <td>15.000000</td>\n",
       "    </tr>\n",
       "    <tr>\n",
       "      <th>25%</th>\n",
       "      <td>7.000000</td>\n",
       "      <td>25.000000</td>\n",
       "      <td>2.000000</td>\n",
       "      <td>1.000000</td>\n",
       "      <td>831.250000</td>\n",
       "    </tr>\n",
       "    <tr>\n",
       "      <th>50%</th>\n",
       "      <td>14.500000</td>\n",
       "      <td>50.000000</td>\n",
       "      <td>4.000000</td>\n",
       "      <td>3.000000</td>\n",
       "      <td>1065.000000</td>\n",
       "    </tr>\n",
       "    <tr>\n",
       "      <th>75%</th>\n",
       "      <td>22.000000</td>\n",
       "      <td>75.000000</td>\n",
       "      <td>7.000000</td>\n",
       "      <td>6.000000</td>\n",
       "      <td>1275.000000</td>\n",
       "    </tr>\n",
       "    <tr>\n",
       "      <th>max</th>\n",
       "      <td>29.000000</td>\n",
       "      <td>100.000000</td>\n",
       "      <td>8.000000</td>\n",
       "      <td>8.000000</td>\n",
       "      <td>2250.000000</td>\n",
       "    </tr>\n",
       "  </tbody>\n",
       "</table>\n",
       "</div>"
      ],
      "text/plain": [
       "         replicate         step   creature_x   creature_y        score\n",
       "count  9090.000000  9090.000000  9090.000000  9090.000000  9090.000000\n",
       "mean     14.500000    50.000000     4.388229     3.617602  1058.422992\n",
       "std       8.655918    29.156363     2.664521     2.695105   355.054123\n",
       "min       0.000000     0.000000     0.000000     0.000000    15.000000\n",
       "25%       7.000000    25.000000     2.000000     1.000000   831.250000\n",
       "50%      14.500000    50.000000     4.000000     3.000000  1065.000000\n",
       "75%      22.000000    75.000000     7.000000     6.000000  1275.000000\n",
       "max      29.000000   100.000000     8.000000     8.000000  2250.000000"
      ]
     },
     "execution_count": 3,
     "metadata": {},
     "output_type": "execute_result"
    }
   ],
   "source": [
    "treatments.describe()"
   ]
  },
  {
   "cell_type": "code",
   "execution_count": 4,
   "metadata": {},
   "outputs": [
    {
     "data": {
      "text/plain": [
       "treatment     object\n",
       "replicate      int64\n",
       "step           int64\n",
       "creature_x     int64\n",
       "creature_y     int64\n",
       "score          int64\n",
       "dtype: object"
      ]
     },
     "execution_count": 4,
     "metadata": {},
     "output_type": "execute_result"
    }
   ],
   "source": [
    "treatments.dtypes"
   ]
  },
  {
   "cell_type": "code",
   "execution_count": 5,
   "metadata": {},
   "outputs": [
    {
     "data": {
      "text/plain": [
       "(9090, 6)"
      ]
     },
     "execution_count": 5,
     "metadata": {},
     "output_type": "execute_result"
    }
   ],
   "source": [
    "treatments.shape"
   ]
  },
  {
   "cell_type": "markdown",
   "metadata": {},
   "source": [
    "From the head, desribe and dtypes, we can infer that\n",
    "Only score is a continuous variable.\n",
    "Replicate and step are ordinal variables\n",
    "treatment, creature_x and creature_y are categorical variables "
   ]
  },
  {
   "cell_type": "markdown",
   "metadata": {},
   "source": [
    "## Let's clean (pad) if needed\n",
    "\n",
    "Some games didn't end with all 100 rounds being played.  Each replicate should have 101 entries, including the value before a single round of the game was played.\n",
    "\n",
    "I'd like you to make sure that each replicate has all 101 entries.  Please pad your dataframe accordingly.  (For the sake of simplicity, let's just pad these missing rounds with 0s for the score and NaNs for the locations of the creature.)\n",
    "\n",
    "You can do this any way you'd like: with loops, or [more advanced techniques](https://stackoverflow.com/questions/55355435/pandas-how-to-pad-value-for-every-row-that-missing-years) that use multiindexes."
   ]
  },
  {
   "cell_type": "code",
   "execution_count": 6,
   "metadata": {},
   "outputs": [
    {
     "data": {
      "text/plain": [
       "90"
      ]
     },
     "execution_count": 6,
     "metadata": {},
     "output_type": "execute_result"
    }
   ],
   "source": [
    "len(treatments.groupby([\"treatment\",\"replicate\"])[\"score\"].count().reset_index()[\"score\"] == 101)"
   ]
  },
  {
   "cell_type": "code",
   "execution_count": 7,
   "metadata": {},
   "outputs": [
    {
     "data": {
      "text/plain": [
       "treatment     0\n",
       "replicate     0\n",
       "step          0\n",
       "creature_x    0\n",
       "creature_y    0\n",
       "score         0\n",
       "dtype: int64"
      ]
     },
     "execution_count": 7,
     "metadata": {},
     "output_type": "execute_result"
    }
   ],
   "source": [
    "treatments.isnull().sum()"
   ]
  },
  {
   "cell_type": "markdown",
   "metadata": {},
   "source": [
    "## Make a pivot tables\n",
    "\n",
    "I'd like to know the min, max, and mean scores for each replicate, grouped by treatment.\n",
    "\n",
    "I'd also like to know the min, max, and mean scores for each treatment overall.\n",
    "\n",
    "Finally, I'd like you to give me the min, max, and mean scores for the last round (100) of each treatment."
   ]
  },
  {
   "cell_type": "code",
   "execution_count": 8,
   "metadata": {},
   "outputs": [
    {
     "data": {
      "text/html": [
       "<div>\n",
       "<style scoped>\n",
       "    .dataframe tbody tr th:only-of-type {\n",
       "        vertical-align: middle;\n",
       "    }\n",
       "\n",
       "    .dataframe tbody tr th {\n",
       "        vertical-align: top;\n",
       "    }\n",
       "\n",
       "    .dataframe thead tr th {\n",
       "        text-align: left;\n",
       "    }\n",
       "\n",
       "    .dataframe thead tr:last-of-type th {\n",
       "        text-align: right;\n",
       "    }\n",
       "</style>\n",
       "<table border=\"1\" class=\"dataframe\">\n",
       "  <thead>\n",
       "    <tr>\n",
       "      <th></th>\n",
       "      <th></th>\n",
       "      <th>amin</th>\n",
       "      <th>amax</th>\n",
       "      <th>mean</th>\n",
       "    </tr>\n",
       "    <tr>\n",
       "      <th></th>\n",
       "      <th></th>\n",
       "      <th>score</th>\n",
       "      <th>score</th>\n",
       "      <th>score</th>\n",
       "    </tr>\n",
       "    <tr>\n",
       "      <th>treatment</th>\n",
       "      <th>replicate</th>\n",
       "      <th></th>\n",
       "      <th></th>\n",
       "      <th></th>\n",
       "    </tr>\n",
       "  </thead>\n",
       "  <tbody>\n",
       "    <tr>\n",
       "      <th rowspan=\"5\" valign=\"top\">play_greedily</th>\n",
       "      <th>0</th>\n",
       "      <td>1000</td>\n",
       "      <td>1925</td>\n",
       "      <td>1600.990099</td>\n",
       "    </tr>\n",
       "    <tr>\n",
       "      <th>1</th>\n",
       "      <td>685</td>\n",
       "      <td>1235</td>\n",
       "      <td>1013.712871</td>\n",
       "    </tr>\n",
       "    <tr>\n",
       "      <th>2</th>\n",
       "      <td>1000</td>\n",
       "      <td>1850</td>\n",
       "      <td>1632.623762</td>\n",
       "    </tr>\n",
       "    <tr>\n",
       "      <th>3</th>\n",
       "      <td>1000</td>\n",
       "      <td>1570</td>\n",
       "      <td>1324.752475</td>\n",
       "    </tr>\n",
       "    <tr>\n",
       "      <th>4</th>\n",
       "      <td>990</td>\n",
       "      <td>1815</td>\n",
       "      <td>1384.801980</td>\n",
       "    </tr>\n",
       "    <tr>\n",
       "      <th>...</th>\n",
       "      <th>...</th>\n",
       "      <td>...</td>\n",
       "      <td>...</td>\n",
       "      <td>...</td>\n",
       "    </tr>\n",
       "    <tr>\n",
       "      <th rowspan=\"5\" valign=\"top\">play_randomly</th>\n",
       "      <th>25</th>\n",
       "      <td>205</td>\n",
       "      <td>1085</td>\n",
       "      <td>548.762376</td>\n",
       "    </tr>\n",
       "    <tr>\n",
       "      <th>26</th>\n",
       "      <td>30</td>\n",
       "      <td>1030</td>\n",
       "      <td>466.237624</td>\n",
       "    </tr>\n",
       "    <tr>\n",
       "      <th>27</th>\n",
       "      <td>400</td>\n",
       "      <td>1025</td>\n",
       "      <td>684.455446</td>\n",
       "    </tr>\n",
       "    <tr>\n",
       "      <th>28</th>\n",
       "      <td>335</td>\n",
       "      <td>1045</td>\n",
       "      <td>710.891089</td>\n",
       "    </tr>\n",
       "    <tr>\n",
       "      <th>29</th>\n",
       "      <td>540</td>\n",
       "      <td>1000</td>\n",
       "      <td>714.257426</td>\n",
       "    </tr>\n",
       "  </tbody>\n",
       "</table>\n",
       "<p>90 rows × 3 columns</p>\n",
       "</div>"
      ],
      "text/plain": [
       "                         amin  amax         mean\n",
       "                        score score        score\n",
       "treatment     replicate                         \n",
       "play_greedily 0          1000  1925  1600.990099\n",
       "              1           685  1235  1013.712871\n",
       "              2          1000  1850  1632.623762\n",
       "              3          1000  1570  1324.752475\n",
       "              4           990  1815  1384.801980\n",
       "...                       ...   ...          ...\n",
       "play_randomly 25          205  1085   548.762376\n",
       "              26           30  1030   466.237624\n",
       "              27          400  1025   684.455446\n",
       "              28          335  1045   710.891089\n",
       "              29          540  1000   714.257426\n",
       "\n",
       "[90 rows x 3 columns]"
      ]
     },
     "execution_count": 8,
     "metadata": {},
     "output_type": "execute_result"
    }
   ],
   "source": [
    "pd.pivot_table(treatments.reset_index(),values=\"score\",index=[\"treatment\",\"replicate\"],aggfunc=[np.min,np.max,np.mean])"
   ]
  },
  {
   "cell_type": "code",
   "execution_count": 9,
   "metadata": {},
   "outputs": [
    {
     "data": {
      "text/html": [
       "<div>\n",
       "<style scoped>\n",
       "    .dataframe tbody tr th:only-of-type {\n",
       "        vertical-align: middle;\n",
       "    }\n",
       "\n",
       "    .dataframe tbody tr th {\n",
       "        vertical-align: top;\n",
       "    }\n",
       "\n",
       "    .dataframe thead tr th {\n",
       "        text-align: left;\n",
       "    }\n",
       "\n",
       "    .dataframe thead tr:last-of-type th {\n",
       "        text-align: right;\n",
       "    }\n",
       "</style>\n",
       "<table border=\"1\" class=\"dataframe\">\n",
       "  <thead>\n",
       "    <tr>\n",
       "      <th></th>\n",
       "      <th>amin</th>\n",
       "      <th>amax</th>\n",
       "      <th>mean</th>\n",
       "    </tr>\n",
       "    <tr>\n",
       "      <th></th>\n",
       "      <th>score</th>\n",
       "      <th>score</th>\n",
       "      <th>score</th>\n",
       "    </tr>\n",
       "    <tr>\n",
       "      <th>treatment</th>\n",
       "      <th></th>\n",
       "      <th></th>\n",
       "      <th></th>\n",
       "    </tr>\n",
       "  </thead>\n",
       "  <tbody>\n",
       "    <tr>\n",
       "      <th>play_greedily</th>\n",
       "      <td>385</td>\n",
       "      <td>2250</td>\n",
       "      <td>1253.562706</td>\n",
       "    </tr>\n",
       "    <tr>\n",
       "      <th>play_greedy_with_random</th>\n",
       "      <td>455</td>\n",
       "      <td>2015</td>\n",
       "      <td>1185.722772</td>\n",
       "    </tr>\n",
       "    <tr>\n",
       "      <th>play_randomly</th>\n",
       "      <td>15</td>\n",
       "      <td>1195</td>\n",
       "      <td>735.983498</td>\n",
       "    </tr>\n",
       "  </tbody>\n",
       "</table>\n",
       "</div>"
      ],
      "text/plain": [
       "                         amin  amax         mean\n",
       "                        score score        score\n",
       "treatment                                       \n",
       "play_greedily             385  2250  1253.562706\n",
       "play_greedy_with_random   455  2015  1185.722772\n",
       "play_randomly              15  1195   735.983498"
      ]
     },
     "execution_count": 9,
     "metadata": {},
     "output_type": "execute_result"
    }
   ],
   "source": [
    "pd.pivot_table(treatments.reset_index(),values=\"score\",index=[\"treatment\"],aggfunc=[np.min,np.max,np.mean])"
   ]
  },
  {
   "cell_type": "code",
   "execution_count": 10,
   "metadata": {},
   "outputs": [
    {
     "data": {
      "text/html": [
       "<div>\n",
       "<style scoped>\n",
       "    .dataframe tbody tr th:only-of-type {\n",
       "        vertical-align: middle;\n",
       "    }\n",
       "\n",
       "    .dataframe tbody tr th {\n",
       "        vertical-align: top;\n",
       "    }\n",
       "\n",
       "    .dataframe thead tr th {\n",
       "        text-align: left;\n",
       "    }\n",
       "\n",
       "    .dataframe thead tr:last-of-type th {\n",
       "        text-align: right;\n",
       "    }\n",
       "</style>\n",
       "<table border=\"1\" class=\"dataframe\">\n",
       "  <thead>\n",
       "    <tr>\n",
       "      <th></th>\n",
       "      <th>amin</th>\n",
       "      <th>amax</th>\n",
       "      <th>mean</th>\n",
       "    </tr>\n",
       "    <tr>\n",
       "      <th></th>\n",
       "      <th>score</th>\n",
       "      <th>score</th>\n",
       "      <th>score</th>\n",
       "    </tr>\n",
       "    <tr>\n",
       "      <th>treatment</th>\n",
       "      <th></th>\n",
       "      <th></th>\n",
       "      <th></th>\n",
       "    </tr>\n",
       "  </thead>\n",
       "  <tbody>\n",
       "    <tr>\n",
       "      <th>play_greedily</th>\n",
       "      <td>650</td>\n",
       "      <td>1290</td>\n",
       "      <td>1012.5</td>\n",
       "    </tr>\n",
       "    <tr>\n",
       "      <th>play_greedy_with_random</th>\n",
       "      <td>945</td>\n",
       "      <td>1725</td>\n",
       "      <td>1458.5</td>\n",
       "    </tr>\n",
       "    <tr>\n",
       "      <th>play_randomly</th>\n",
       "      <td>540</td>\n",
       "      <td>990</td>\n",
       "      <td>711.4</td>\n",
       "    </tr>\n",
       "  </tbody>\n",
       "</table>\n",
       "</div>"
      ],
      "text/plain": [
       "                         amin  amax    mean\n",
       "                        score score   score\n",
       "treatment                                  \n",
       "play_greedily             650  1290  1012.5\n",
       "play_greedy_with_random   945  1725  1458.5\n",
       "play_randomly             540   990   711.4"
      ]
     },
     "execution_count": 10,
     "metadata": {},
     "output_type": "execute_result"
    }
   ],
   "source": [
    "pd.pivot_table(treatments.reset_index().groupby(\"treatment\").tail(100).reset_index(),values=\"score\",index=[\"treatment\"],aggfunc=[np.min,np.max,np.mean])"
   ]
  },
  {
   "cell_type": "markdown",
   "metadata": {},
   "source": [
    "## Plotting\n",
    "\n",
    "1. I'd like to see the distribution of final scores for each replicate grouped by treatment.  Use a violin plot.  Are there any qualatative differences between the distributions of final scores among treatments?\n",
    "\n",
    "2. I'd like you to plot a heatmap for each treatment where the value of each cell in the heatmap indicates how many round(s) the creature spent in each cell in the grid.  Are there any qualatative differences among the three strategies?"
   ]
  },
  {
   "cell_type": "code",
   "execution_count": 11,
   "metadata": {},
   "outputs": [
    {
     "data": {
      "image/png": "[encoded data removed]",
      "text/plain": [
       "<Figure size 432x288 with 1 Axes>"
      ]
     },
     "metadata": {
      "needs_background": "light"
     },
     "output_type": "display_data"
    }
   ],
   "source": [
    "sns.violinplot(data=treatments.groupby([\"treatment\",\"replicate\"]).last().reset_index(),x=\"treatment\",y=\"score\")\n",
    "plt.show()"
   ]
  },
  {
   "cell_type": "code",
   "execution_count": 12,
   "metadata": {},
   "outputs": [
    {
     "data": {
      "image/png": "[encoded data removed]",
      "text/plain": [
       "<Figure size 432x288 with 2 Axes>"
      ]
     },
     "metadata": {
      "needs_background": "light"
     },
     "output_type": "display_data"
    },
    {
     "data": {
      "image/png": "[encoded data removed]",
      "text/plain": [
       "<Figure size 432x288 with 2 Axes>"
      ]
     },
     "metadata": {
      "needs_background": "light"
     },
     "output_type": "display_data"
    },
    {
     "data": {
      "image/png": "[encoded data removed]",
      "text/plain": [
       "<Figure size 432x288 with 2 Axes>"
      ]
     },
     "metadata": {
      "needs_background": "light"
     },
     "output_type": "display_data"
    }
   ],
   "source": [
    "for t in [\"play_greedily\",\"play_greedy_with_random\",\"play_randomly\"]:\n",
    "    t1 = treatments[treatments[\"treatment\"] == t].groupby([\"creature_x\",\"creature_y\"])[\"step\"].count().reset_index()\n",
    "    arr1 = np.zeros((t1[\"creature_x\"].max()+1,t1[\"creature_y\"].max()+1))\n",
    "    arr1[t1[\"creature_x\"],t1[\"creature_y\"]] = t1[\"step\"]\n",
    "    sns.heatmap(arr1)\n",
    "    plt.title(f\"# Rounds the creature spent in a cell using {t} strategy\")\n",
    "    plt.show()"
   ]
  },
  {
   "cell_type": "markdown",
   "metadata": {},
   "source": [
    "## A quick test\n",
    "\n",
    "Let's see if there are strategies that play the game \"better\" than random.  We're going to do a quick test of this hypothesis:\n",
    "\n",
    "$H_0$: play_greedily and play_greedy_with_random perform just as well as play_randomly\n",
    "\n",
    "$H_{a1}$: play_greedily results in higher scores than play_random\n",
    "\n",
    "$H_{a2}$: play_greedy_with_random results in higher scores than play_random\n",
    "\n",
    "$H_{a3}$: both play_greedily and play_reedy_with_random result in higher scores than play randomly\n",
    "\n",
    "To do this, we will perform two [one-sided Mann-Whitney U-Tests](https://docs.scipy.org/doc/scipy/reference/generated/scipy.stats.mannwhitneyu.html) on the final scores of the game for each treatment.  (We're using a MWU test because I don't want to make any assumptions about the distribution of the final scores.  Remember: distributions are the result of physical processes.  Here I want to not make any assumptions about those, so we're going to use this non-parametric statistical test.)\n",
    "\n",
    "* Run a U-Test of play_random final scores against play_greedily final scores.  Make this a one-sided test to see if play_greedily has a greater medial location.\n",
    "\n",
    "* Run a U-Test of play_random final scores against play_greedy_with_random final scores.  Make this a one-sided test to see if play_greedily has a greater medial location.\n",
    "\n"
   ]
  },
  {
   "cell_type": "code",
   "execution_count": 13,
   "metadata": {},
   "outputs": [
    {
     "data": {
      "text/plain": [
       "MannwhitneyuResult(statistic=61.5, pvalue=0.9999999955887612)"
      ]
     },
     "execution_count": 13,
     "metadata": {},
     "output_type": "execute_result"
    }
   ],
   "source": [
    "mannwhitneyu(treatments[treatments[\"treatment\"] == \"play_randomly\"].groupby([\"treatment\",\"replicate\"]).last()[\"score\"],\n",
    "             treatments[treatments[\"treatment\"] == \"play_greedily\"].groupby([\"treatment\",\"replicate\"]).last()[\"score\"],\n",
    "             alternative = \"greater\")"
   ]
  },
  {
   "cell_type": "code",
   "execution_count": 14,
   "metadata": {},
   "outputs": [
    {
     "data": {
      "text/plain": [
       "MannwhitneyuResult(statistic=36.0, pvalue=0.9999999995568752)"
      ]
     },
     "execution_count": 14,
     "metadata": {},
     "output_type": "execute_result"
    }
   ],
   "source": [
    "mannwhitneyu(treatments[treatments[\"treatment\"] == \"play_randomly\"].groupby([\"treatment\",\"replicate\"]).last()[\"score\"],\n",
    "             treatments[treatments[\"treatment\"] == \"play_greedy_with_random\"].groupby([\"treatment\",\"replicate\"]).last()[\"score\"],\n",
    "             alternative = \"greater\")"
   ]
  }
 ],
 "metadata": {
  "kernelspec": {
   "display_name": "Python 3",
   "language": "python",
   "name": "python3"
  },
  "language_info": {
   "codemirror_mode": {
    "name": "ipython",
    "version": 3
   },
   "file_extension": ".py",
   "mimetype": "text/x-python",
   "name": "python",
   "nbconvert_exporter": "python",
   "pygments_lexer": "ipython3",
   "version": "3.7.1"
  }
 },
 "nbformat": 4,
 "nbformat_minor": 4
}
