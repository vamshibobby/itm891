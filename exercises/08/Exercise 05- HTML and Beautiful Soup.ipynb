{
 "cells": [
  {
   "cell_type": "markdown",
   "metadata": {},
   "source": [
    "# Exercise05: Web Crawling"
   ]
  },
  {
   "cell_type": "markdown",
   "metadata": {},
   "source": [
    "## Part B: A Simple Beautiful Soup\n",
    "\n",
    "I would like you to find all the URLS used in the links in your webpage using the find_all method from Beautiful Soup.\n",
    "\n",
    "You may use this starter code to assist you"
   ]
  },
  {
   "cell_type": "code",
   "execution_count": 1,
   "metadata": {},
   "outputs": [],
   "source": [
    "from bs4 import BeautifulSoup\n",
    "import scrapy\n",
    "import os\n",
    "import requests\n",
    "\n",
    "os.chdir(\"C:/Users/SAI VAMSHI/Desktop/MSU MSBA/CSE801A/itm891/exercises/08\")\n",
    "\n",
    "filename='ex8.html'  # <--- change this to your file\n",
    "                            # it should be in the same directory \n",
    "                            # as this notebook\n",
    "with open(filename) as fh:\n",
    "    parsed_page = BeautifulSoup(fh)"
   ]
  },
  {
   "cell_type": "code",
   "execution_count": 2,
   "metadata": {},
   "outputs": [
    {
     "data": {
      "text/plain": [
       "['https://en.wikipedia.org/wiki/Computer',\n",
       " 'https://en.wikipedia.org/wiki/Computer_vision',\n",
       " 'https://arxiv.org/abs/1905.11946v1',\n",
       " 'https://arxiv.org/abs/1904.11111',\n",
       " 'https://arxiv.org/abs/1906.06423']"
      ]
     },
     "execution_count": 2,
     "metadata": {},
     "output_type": "execute_result"
    }
   ],
   "source": [
    "sel = scrapy.Selector(text = str(parsed_page))\n",
    "all_links = sel.css(\"a::attr(href)\").extract()\n",
    "all_links"
   ]
  },
  {
   "cell_type": "markdown",
   "metadata": {},
   "source": [
    "## Part C:  Crawling Wikipedia with Beautiful Soup\n",
    "\n",
    "I'd like you to find all the unique web pages linked to from the **Young Frankenstein** Wikipedia page that are also within the wikipedia domain.  Use the demo from today to guide your efforts.\n",
    "\n",
    "Link: [https://en.wikipedia.org/wiki/Young_Frankenstein](https://en.wikipedia.org/wiki/Young_Frankenstein)"
   ]
  },
  {
   "cell_type": "code",
   "execution_count": 3,
   "metadata": {},
   "outputs": [],
   "source": [
    "url = \"https://en.wikipedia.org/wiki/Young_Frankenstein\"\n",
    "html = requests.get(url).content\n",
    "sel = scrapy.Selector(text = html)"
   ]
  },
  {
   "cell_type": "code",
   "execution_count": 4,
   "metadata": {},
   "outputs": [
    {
     "data": {
      "text/plain": [
       "['/wiki/The_A.V._Club',\n",
       " '/wiki/Dracula:_Dead_and_Loving_It',\n",
       " '/wiki/Star_Trek:_The_Original_Series',\n",
       " '#cite_ref-28',\n",
       " '/wiki/Victor_Frankenstein']"
      ]
     },
     "execution_count": 4,
     "metadata": {},
     "output_type": "execute_result"
    }
   ],
   "source": [
    "wiki_links = set(sel.css(\"a::attr(href)\").extract())\n",
    "list(wiki_links)[0:5]"
   ]
  },
  {
   "cell_type": "code",
   "execution_count": 2,
   "metadata": {},
   "outputs": [],
   "source": [
    "import scrapy\n",
    "import requests\n",
    "url = \"https://lansing.craigslist.org/d/cars-trucks/search/cta\"\n",
    "html = requests.get(url).content\n",
    "sel = scrapy.Selector(text = html)\n",
    "sel.css(\"ul.rows div.result-info h3.result-heading a::text\").extract()"
   ]
  },
  {
   "cell_type": "code",
   "execution_count": 17,
   "metadata": {},
   "outputs": [
    {
     "data": {
      "text/plain": [
       "['1999 Ford F350 Powerstroke 7.3 Work Truck',\n",
       " 'Honda Fit 2015 w/ext warranty',\n",
       " '2006 Chevrolet Impala LT 4 Door (83,142 miles)',\n",
       " '2004 Ford F150 Lifted 4x4',\n",
       " 'Clean Carfax!! 2007 GMC Sierra 1500! 4x4! Crew Cab! Reliable!',\n",
       " '2015 Hyundai Elantra Limited',\n",
       " '1970 VW Karmann Ghia',\n",
       " '2017 Land Rover Discovery Sport HSE Sport Utility 4D suv Black -',\n",
       " '2016 Hyundai Genesis 3.8 Sedan 4D sedan White - FINANCE ONLINE',\n",
       " 'Clean! 2002 Ford Excursion Limited! Lifted 4x4! Dependable! 3rd Row!',\n",
       " '2018 Caddy Cadillac CTS Sedan 4D sedan Gray - FINANCE ONLINE',\n",
       " '2020 Buick Encore GX Select Sport Utility 4D suv Black - FINANCE',\n",
       " '2004 4Runner',\n",
       " '2018 Buick Encore Preferred Sport Utility 4D suv Black - FINANCE',\n",
       " '2014 Jeep Wrangler Altitude',\n",
       " '2019 Audi A4 allroad Premium Plus Wagon 4D wagon Green - FINANCE',\n",
       " '2018 Mercedes-Benz Metris Passenger Van 4D van Black - FINANCE ONLINE',\n",
       " '$270/mo - 2020 Toyota Corolla LE - Easy Financing!',\n",
       " '2019 BMW 4 Series 440i xDrive Coupe 2D coupe Gray - FINANCE ONLINE',\n",
       " '2016 Malibu LT',\n",
       " 'Cobalt',\n",
       " '2015 Dodge Journey R/T Sport Utility 4D suv Gray - FINANCE ONLINE',\n",
       " '2005 GMC Envoy Denali',\n",
       " '2020 Buick Enclave Premium Sport Utility 4D suv Black - FINANCE ONLINE',\n",
       " '2009 Ford Edge SE',\n",
       " '2012 Ford Escape XLT',\n",
       " '2012 Land Rover Range Rover Evoque Coupe Pure Sport Utility 2D coupe',\n",
       " '2018 HYUNDAI ELANTRA SE >36 MPG',\n",
       " '2019 FORD ECOSPORT TITANIUM AWD',\n",
       " '2019 CHEVROLET EQUINOX LT AWD',\n",
       " '$382/mo - 2018 Dodge Charger SXT Plus - Easy Financing!',\n",
       " '2018 HYUNDAI ELANTRA SE >36 MPG',\n",
       " '2018 CHEVROLET EQUINOX LT>36K MILES!',\n",
       " '2019 NISSAN ALTIMA S',\n",
       " '2016 DODGE JOURNEY SE >3RD ROW!',\n",
       " '2015 CHEVROLET IMPALA',\n",
       " 'Jeep liberty 2004',\n",
       " 'RARE 2008 Dodge Viper SRT10 (VVO Metallic)',\n",
       " '2010 Dodge Ram 1500 SLTExtended Cab FOR ONLY $159/mo!',\n",
       " 'VW Beetles for sale',\n",
       " 'dodge avenger 2011',\n",
       " '2009 Chevrolet Impala LS Sedan 4D',\n",
       " '2013 Ford F150 F 150 F-150 XLTCrew Cab FOR ONLY $196/mo!',\n",
       " '2011 Acura MDX 3.7L 3.7 L 3.7-L Advance Package SHAWD AWD 3.7L Advance',\n",
       " '2017 Lexus GS GS 350 Sedan 4D sedan Black - FINANCE ONLINE',\n",
       " '2014 Ford Fiesta SE FOR ONLY $117/mo!',\n",
       " '2019 Lexus IS IS 300 Sedan 4D sedan Black - FINANCE ONLINE',\n",
       " '2017 Chevrolet Malibu LT w/ONLY 40k Miles!',\n",
       " '2013 Ford Fusion Titanium 88k LOADED! Nav-Leather-Rmt Start-Htd Seats+',\n",
       " '2013 Ford Focus 5dr HB SE',\n",
       " '2018 Audi A6 2.0T Premium Sedan 4D sedan Silver - FINANCE ONLINE',\n",
       " '2016 Scion iM Hatchback 4D hatchback Blue - FINANCE ONLINE',\n",
       " '2012 Scion xD Hatchback 4D hatchback White - FINANCE ONLINE',\n",
       " '2011 Mercedes-Benz CL-Class CL 550 4MATIC Coupe 2D coupe Black -',\n",
       " '2007 GMC Yukon 4WD 4dr 1500 SLT',\n",
       " '2011 VW Jetta',\n",
       " '2013 Chrysler Town & Country 4dr Wgn Touring',\n",
       " '2015 Ford Focus 4dr Sdn SE',\n",
       " '2008 GMC Yukon XL Denali AWD 4dr 1500',\n",
       " '2011 Ford Explorer 4WD 4dr Limited',\n",
       " '2006 Cadillac Escalade ESV 4dr AWD',\n",
       " '2011 Ford Explorer FWD 4dr Limited',\n",
       " '2015 Ford Taurus 4dr Sdn Limited FWD',\n",
       " '2017 Ford Taurus Limited FWD',\n",
       " '2010 Chevrolet Equinox AWD 4dr LT w/1LT',\n",
       " '2011 Nissan Murano SV AWD! AWD FOR ONLY $159/mo!',\n",
       " '2003 Lexus SC 430 2dr Convertible',\n",
       " '2020 Acura ILX Sedan 4D sedan Black - FINANCE ONLINE',\n",
       " '2018 Chevy Cruze 2LT CLEAN TITLE Remote start Heated seats Camera',\n",
       " '2013 Dodge Grand Caravan 4dr Wgn SXT',\n",
       " '2009 Ford F-150 4WD SuperCrew 145\" XLT',\n",
       " '2012 Ford F-150 4WD SuperCrew 145\" XLT',\n",
       " '2008 BMW X3',\n",
       " '2009 Pontiac G6 4dr Sdn GT w/1SB',\n",
       " '2013 Dodge Dart 4dr Sdn Limited',\n",
       " '$286/mo - 2018 Chevrolet Malibu LT 1LT 1 LT 1-LT - Easy Financing!',\n",
       " '2000 Ford Ranger XL Standard Cab',\n",
       " '2017 Acura MDX Sport Hybrid SH-AWD w/Technology Pkg Sport Utility 4D',\n",
       " '2003 Dodge Dakota Sport Plus Quad Cab 4x4',\n",
       " '2007 Saturn Aura XE',\n",
       " '2017 Jag Jaguar XF XF 35t Premium Sedan 4D sedan Blue - FINANCE ONLINE',\n",
       " '2007 Ford Taurus SEL NO ACCIDENTS',\n",
       " '2016 Chevrolet Express G2500 Cargo Van**159K MILES**INCLUDES BULKHEAD*',\n",
       " '2009 GMC Acadia SLT2 SLT 2 SLT-2 FOR ONLY $117/mo!',\n",
       " '2010 GMC Sierra SLE 2500HD',\n",
       " '2004 Chevrolet Colorado Z71 LS Crew Cab 4x4 NO ACCIDENTS',\n",
       " '2017 Lincoln MKX Reserve Sport Utility 4D suv Blue - FINANCE ONLINE',\n",
       " '2012 Volkswagen CC',\n",
       " '2016 Chevy Silverado 2500HD double Can LT',\n",
       " '2008 Ford F-150 XLT',\n",
       " '2008 Saturn Outlook XR',\n",
       " '1 Owner! 2014 Chevy Silverado 1500 LTZ! 4x4! Crew Cab! Loaded!',\n",
       " 'Third Row! 2006 Toyota Sienna CE! Affordable!',\n",
       " '2004 Ford F-350! Dually! Single Cab! Hydraulic Scissor Lift! LOW Miles',\n",
       " '2013 Ford F-350! 4x4! Super Crew! Diesel! Reliable!',\n",
       " '2018 JEEP GRAND CHEROKEE ALL WHEEL DRIVE',\n",
       " '2019 INFINITI QX80 LUXE Sport Utility 4D suv Gray - FINANCE ONLINE',\n",
       " '$245/mo - 2014 Mini Cooper S Countryman Base AWD - Easy Financing!',\n",
       " '2015 Ford Flex SEL AWD',\n",
       " '2015 Ford F-350 SD Lariat CrewCab Diesel Long Bed 4WD',\n",
       " '2018 Chevrolet Equinox LT 1LT 1 LT 1-LT FOR ONLY $236/mo!',\n",
       " '2018 Ford Fusion Titanium AWD',\n",
       " '2014 GMC Sierra 2500HD Denali Crew Cab 4WD',\n",
       " '2007 Lexus LS 460 Luxury Sedan',\n",
       " '2016 Ford F-350 SD XLT Crew Cab Long Bed 4WD',\n",
       " '2015 Jeep Grand Cherokee Overland 4WD',\n",
       " '2010 GMC Sierra 2500HD SLE Crew Cab 4WD',\n",
       " '2014 Toyota Camry XLE FOR ONLY $215/mo!',\n",
       " '***BAD CREDIT!!!***NO CREDIT!!!***APPROVED***$399 DOWN-DRIVE TODAY!!!',\n",
       " '2013 GMC Acadia SLT1 SLT 1 SLT-1 AWD! AWD SLT 1 AWD! AWD FOR ONLY $200',\n",
       " '2010 Ford Focus SES Sedan FWD GREAT ON GAS Remote Starter $3,800/OBO',\n",
       " \"OPEN SATURDAY 10AM - 3PM! TALBOTT MOTORS HAS WHAT YOU'RE LOOKING FOR!\",\n",
       " '2013 Ford F-250 SD Lariat Crew Cab 4WD',\n",
       " '2016 Ford F-150 XLT SuperCrew 5.5-ft. Bed 4WD',\n",
       " '2008  Chevy Colbalt',\n",
       " '2020 Kia Soul S Wagon 4D wagon Black - FINANCE ONLINE',\n",
       " '2020 Acura TLX 2.4 w/Technology Pkg Sedan 4D sedan White - FINANCE',\n",
       " '2012 Chevy Malibu LTZ',\n",
       " '2016 Dodge Challenger R/T Scat Pack Coupe 2D coupe Purple - FINANCE',\n",
       " '2007 Volkswagen Bettle']"
      ]
     },
     "execution_count": 17,
     "metadata": {},
     "output_type": "execute_result"
    }
   ],
   "source": [
    "sel.css(\"ul.rows div.result-info h3.result-heading a::text\").extract()"
   ]
  },
  {
   "cell_type": "code",
   "execution_count": null,
   "metadata": {},
   "outputs": [],
   "source": []
  }
 ],
 "metadata": {
  "kernelspec": {
   "display_name": "Python 3",
   "language": "python",
   "name": "python3"
  },
  "language_info": {
   "codemirror_mode": {
    "name": "ipython",
    "version": 3
   },
   "file_extension": ".py",
   "mimetype": "text/x-python",
   "name": "python",
   "nbconvert_exporter": "python",
   "pygments_lexer": "ipython3",
   "version": "3.7.1"
  }
 },
 "nbformat": 4,
 "nbformat_minor": 2
}
