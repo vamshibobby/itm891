{
 "cells": [
  {
   "cell_type": "markdown",
   "metadata": {},
   "source": [
    "# Exercise05: Web Crawling"
   ]
  },
  {
   "cell_type": "markdown",
   "metadata": {},
   "source": [
    "## Part B: A Simple Beautiful Soup\n",
    "\n",
    "I would like you to find all the URLS used in the links in your webpage using the find_all method from Beautiful Soup.\n",
    "\n",
    "You may use this starter code to assist you"
   ]
  },
  {
   "cell_type": "code",
   "execution_count": 1,
   "metadata": {},
   "outputs": [],
   "source": [
    "from bs4 import BeautifulSoup\n",
    "import scrapy\n",
    "import os\n",
    "import requests\n",
    "\n",
    "os.chdir(\"C:/Users/SAI VAMSHI/Desktop/MSU MSBA/CSE801A/itm891/exercises/08\")\n",
    "\n",
    "filename='ex8.html'  # <--- change this to your file\n",
    "                            # it should be in the same directory \n",
    "                            # as this notebook\n",
    "with open(filename) as fh:\n",
    "    parsed_page = BeautifulSoup(fh)"
   ]
  },
  {
   "cell_type": "code",
   "execution_count": 2,
   "metadata": {},
   "outputs": [
    {
     "data": {
      "text/plain": [
       "['https://en.wikipedia.org/wiki/Computer',\n",
       " 'https://en.wikipedia.org/wiki/Computer_vision',\n",
       " 'https://arxiv.org/abs/1905.11946v1',\n",
       " 'https://arxiv.org/abs/1904.11111',\n",
       " 'https://arxiv.org/abs/1906.06423']"
      ]
     },
     "execution_count": 2,
     "metadata": {},
     "output_type": "execute_result"
    }
   ],
   "source": [
    "sel = scrapy.Selector(text = str(parsed_page))\n",
    "all_links = sel.css(\"a::attr(href)\").extract()\n",
    "all_links"
   ]
  },
  {
   "cell_type": "markdown",
   "metadata": {},
   "source": [
    "## Part C:  Crawling Wikipedia with Beautiful Soup\n",
    "\n",
    "I'd like you to find all the unique web pages linked to from the **Young Frankenstein** Wikipedia page that are also within the wikipedia domain.  Use the demo from today to guide your efforts.\n",
    "\n",
    "Link: [https://en.wikipedia.org/wiki/Young_Frankenstein](https://en.wikipedia.org/wiki/Young_Frankenstein)"
   ]
  },
  {
   "cell_type": "code",
   "execution_count": 3,
   "metadata": {},
   "outputs": [],
   "source": [
    "url = \"https://en.wikipedia.org/wiki/Young_Frankenstein\"\n",
    "html = requests.get(url).content\n",
    "sel = scrapy.Selector(text = html)"
   ]
  },
  {
   "cell_type": "code",
   "execution_count": 4,
   "metadata": {},
   "outputs": [
    {
     "data": {
      "text/plain": [
       "['/wiki/The_A.V._Club',\n",
       " '/wiki/Dracula:_Dead_and_Loving_It',\n",
       " '/wiki/Star_Trek:_The_Original_Series',\n",
       " '#cite_ref-28',\n",
       " '/wiki/Victor_Frankenstein']"
      ]
     },
     "execution_count": 4,
     "metadata": {},
     "output_type": "execute_result"
    }
   ],
   "source": [
    "wiki_links = set(sel.css(\"a::attr(href)\").extract())\n",
    "list(wiki_links)[0:5]"
   ]
  }
 ],
 "metadata": {
  "kernelspec": {
   "display_name": "Python 3",
   "language": "python",
   "name": "python3"
  },
  "language_info": {
   "codemirror_mode": {
    "name": "ipython",
    "version": 3
   },
   "file_extension": ".py",
   "mimetype": "text/x-python",
   "name": "python",
   "nbconvert_exporter": "python",
   "pygments_lexer": "ipython3",
   "version": "3.7.1"
  }
 },
 "nbformat": 4,
 "nbformat_minor": 2
}
