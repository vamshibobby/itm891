{
 "cells": [
  {
   "cell_type": "code",
   "execution_count": 1,
   "metadata": {},
   "outputs": [],
   "source": [
    "%matplotlib inline"
   ]
  },
  {
   "cell_type": "markdown",
   "metadata": {},
   "source": [
    "# Exercise 09: Web Scraping Wikipedia\n",
    "\n",
    "I would like you to examine whether or not there is a linear correlation between the size of a US state and the year it was admitted to the union.\n",
    "\n",
    "Objectives: \n",
    "+ Scraping a table from a webpage\n",
    "+ Storing that data in a dataframe\n",
    "+ Performing a linear regression on that data\n",
    "\n",
    "## Part A\n",
    "Using the URL I've provided below, I want you to scrape:\n",
    "1. The name of each state\n",
    "2. The year of admittance for each state\n",
    "3. The land area for each state\n",
    "\n",
    "Examine the URL to the webpage I've provided using your browser's element inspector to determine how to parse the relavent table.  \n",
    "\n",
    "Store the data collected in a Pandas' DataFrame.\n",
    "\n",
    "## Part B\n",
    "Once you have scraped the necessary data, I would like you to perform a linear regression on the year of admittance for each state (x-axis) against the land area of each state (y-axis) using the Linear Regression model from scikit learn.\n",
    "\n",
    "You may use the [API reference](https://scikit-learn.org/stable/modules/generated/sklearn.linear_model.LinearRegression.html) and [this example](https://scikit-learn.org/stable/auto_examples/linear_model/plot_ols.html#sphx-glr-auto-examples-linear-model-plot-ols-py) to assist you with your regression.\n",
    "\n",
    "Plot the data points and regression line.  Print out the coefficients, mean squared error, and $r^2$ values of this model.\n"
   ]
  },
  {
   "cell_type": "code",
   "execution_count": 2,
   "metadata": {},
   "outputs": [],
   "source": [
    "import matplotlib.pylab as plt\n",
    "from sklearn import linear_model\n",
    "from sklearn.metrics import mean_squared_error, r2_score\n",
    "import pandas as pd\n",
    "import statsmodels.api as sm\n",
    "import scrapy\n",
    "import numpy as np\n",
    "import requests"
   ]
  },
  {
   "cell_type": "markdown",
   "metadata": {},
   "source": [
    "Reading the html content using 'requests' package"
   ]
  },
  {
   "cell_type": "code",
   "execution_count": 3,
   "metadata": {},
   "outputs": [],
   "source": [
    "url='https://en.wikipedia.org/wiki/List_of_states_and_territories_of_the_United_States'\n",
    "html = requests.get(url).content\n",
    "sel = scrapy.Selector(text = html)"
   ]
  },
  {
   "cell_type": "markdown",
   "metadata": {},
   "source": [
    "* Initialize three lists for states, year of admission and area\n",
    "* Get the tr/td elements as necessary\n",
    "* Clean the year and area lists\n",
    "* Create a dataframe"
   ]
  },
  {
   "cell_type": "code",
   "execution_count": 4,
   "metadata": {},
   "outputs": [
    {
     "data": {
      "text/html": [
       "<div>\n",
       "<style scoped>\n",
       "    .dataframe tbody tr th:only-of-type {\n",
       "        vertical-align: middle;\n",
       "    }\n",
       "\n",
       "    .dataframe tbody tr th {\n",
       "        vertical-align: top;\n",
       "    }\n",
       "\n",
       "    .dataframe thead th {\n",
       "        text-align: right;\n",
       "    }\n",
       "</style>\n",
       "<table border=\"1\" class=\"dataframe\">\n",
       "  <thead>\n",
       "    <tr style=\"text-align: right;\">\n",
       "      <th></th>\n",
       "      <th>State</th>\n",
       "      <th>Year_of_admission</th>\n",
       "      <th>Area</th>\n",
       "    </tr>\n",
       "  </thead>\n",
       "  <tbody>\n",
       "    <tr>\n",
       "      <th>0</th>\n",
       "      <td>Alabama</td>\n",
       "      <td>1819</td>\n",
       "      <td>50645</td>\n",
       "    </tr>\n",
       "    <tr>\n",
       "      <th>1</th>\n",
       "      <td>Alaska</td>\n",
       "      <td>1959</td>\n",
       "      <td>570641</td>\n",
       "    </tr>\n",
       "    <tr>\n",
       "      <th>2</th>\n",
       "      <td>Arizona</td>\n",
       "      <td>1912</td>\n",
       "      <td>113594</td>\n",
       "    </tr>\n",
       "    <tr>\n",
       "      <th>3</th>\n",
       "      <td>Arkansas</td>\n",
       "      <td>1836</td>\n",
       "      <td>52035</td>\n",
       "    </tr>\n",
       "    <tr>\n",
       "      <th>4</th>\n",
       "      <td>California</td>\n",
       "      <td>1850</td>\n",
       "      <td>155779</td>\n",
       "    </tr>\n",
       "  </tbody>\n",
       "</table>\n",
       "</div>"
      ],
      "text/plain": [
       "        State  Year_of_admission    Area\n",
       "0     Alabama               1819   50645\n",
       "1      Alaska               1959  570641\n",
       "2     Arizona               1912  113594\n",
       "3    Arkansas               1836   52035\n",
       "4  California               1850  155779"
      ]
     },
     "execution_count": 4,
     "metadata": {},
     "output_type": "execute_result"
    }
   ],
   "source": [
    "states_list = []\n",
    "admin_list = []\n",
    "area_list = []\n",
    "for tri in sel.css(\"table\")[0].css('tbody tr')[2:]:\n",
    "    states_list.append(tri.css(\"th a::attr(title)\").extract()[0])\n",
    "    if len(tri.css(\"td\"))==12:\n",
    "        admin_list.append(tri.css(\"td\")[3].css(\"::text\").extract()[0])\n",
    "        area_list.append(tri.css(\"td\")[7].css(\"::text\").extract()[0])\n",
    "    else:\n",
    "        admin_list.append(tri.css(\"td\")[2].css(\"::text\").extract()[0])\n",
    "        area_list.append(tri.css(\"td\")[6].css(\"::text\").extract()[0])\n",
    "\n",
    "admin_list = [int(i.split(\", \")[1]) for i in admin_list]\n",
    "area_list = [int(i.split(\"\\n\")[0].replace(\",\",\"\")) for i in area_list]\n",
    "states = pd.DataFrame({\"State\":states_list,\"Year_of_admission\":admin_list,\"Area\":area_list})\n",
    "states.head()"
   ]
  },
  {
   "cell_type": "markdown",
   "metadata": {},
   "source": [
    "Easier way to pull the datable using pandas inbuilt function \"read_html\""
   ]
  },
  {
   "cell_type": "code",
   "execution_count": 5,
   "metadata": {},
   "outputs": [
    {
     "data": {
      "text/html": [
       "<div>\n",
       "<style scoped>\n",
       "    .dataframe tbody tr th:only-of-type {\n",
       "        vertical-align: middle;\n",
       "    }\n",
       "\n",
       "    .dataframe tbody tr th {\n",
       "        vertical-align: top;\n",
       "    }\n",
       "\n",
       "    .dataframe thead th {\n",
       "        text-align: right;\n",
       "    }\n",
       "</style>\n",
       "<table border=\"1\" class=\"dataframe\">\n",
       "  <thead>\n",
       "    <tr style=\"text-align: right;\">\n",
       "      <th></th>\n",
       "      <th>State</th>\n",
       "      <th>Year_of_admission</th>\n",
       "      <th>Area</th>\n",
       "    </tr>\n",
       "  </thead>\n",
       "  <tbody>\n",
       "    <tr>\n",
       "      <th>0</th>\n",
       "      <td>Alabama</td>\n",
       "      <td>1819</td>\n",
       "      <td>50645</td>\n",
       "    </tr>\n",
       "    <tr>\n",
       "      <th>1</th>\n",
       "      <td>Alaska</td>\n",
       "      <td>1959</td>\n",
       "      <td>570641</td>\n",
       "    </tr>\n",
       "    <tr>\n",
       "      <th>2</th>\n",
       "      <td>Arizona</td>\n",
       "      <td>1912</td>\n",
       "      <td>113594</td>\n",
       "    </tr>\n",
       "    <tr>\n",
       "      <th>3</th>\n",
       "      <td>Arkansas</td>\n",
       "      <td>1836</td>\n",
       "      <td>52035</td>\n",
       "    </tr>\n",
       "    <tr>\n",
       "      <th>4</th>\n",
       "      <td>California</td>\n",
       "      <td>1850</td>\n",
       "      <td>155779</td>\n",
       "    </tr>\n",
       "  </tbody>\n",
       "</table>\n",
       "</div>"
      ],
      "text/plain": [
       "        State Year_of_admission    Area\n",
       "0     Alabama              1819   50645\n",
       "1      Alaska              1959  570641\n",
       "2     Arizona              1912  113594\n",
       "3    Arkansas              1836   52035\n",
       "4  California              1850  155779"
      ]
     },
     "execution_count": 5,
     "metadata": {},
     "output_type": "execute_result"
    }
   ],
   "source": [
    "tbl = pd.read_html(url)\n",
    "states1 = tbl[0].iloc[:,[0,4,8]].copy()\n",
    "states1.columns = [\"State\",\"Year_of_admission\",\"Area\"]\n",
    "states1.Year_of_admission = states1.Year_of_admission.apply(lambda x:x.split(\", \")[1])\n",
    "states1.head()"
   ]
  },
  {
   "cell_type": "markdown",
   "metadata": {},
   "source": [
    "Building a linear regression model using sklearn and getting the coefficients, rsquare and mse"
   ]
  },
  {
   "cell_type": "code",
   "execution_count": 6,
   "metadata": {},
   "outputs": [
    {
     "name": "stdout",
     "output_type": "stream",
     "text": [
      "The coefficient of the model is: [986.61722517]\n",
      "R-square is: 0.30263841570869365\n",
      "Mean squared error is: 5032889913.144245\n"
     ]
    }
   ],
   "source": [
    "X = np.array(states[\"Year_of_admission\"]).reshape(-1,1)\n",
    "y = np.array(states[\"Area\"])\n",
    "model = linear_model.LinearRegression().fit(X, y)\n",
    "print(f\"The coefficient of the model is: {model.coef_}\")\n",
    "print(f\"R-square is: {model.score(X,y)}\")\n",
    "print(f\"Mean squared error is: {mean_squared_error(y,model.predict(X))}\")"
   ]
  },
  {
   "cell_type": "markdown",
   "metadata": {},
   "source": [
    "We can use statsmodels to get the p-values of the coefficient and hence get to know the statistical significance too"
   ]
  },
  {
   "cell_type": "code",
   "execution_count": 7,
   "metadata": {},
   "outputs": [
    {
     "data": {
      "text/html": [
       "<table class=\"simpletable\">\n",
       "<caption>OLS Regression Results</caption>\n",
       "<tr>\n",
       "  <th>Dep. Variable:</th>            <td>y</td>        <th>  R-squared:         </th> <td>   0.303</td>\n",
       "</tr>\n",
       "<tr>\n",
       "  <th>Model:</th>                   <td>OLS</td>       <th>  Adj. R-squared:    </th> <td>   0.288</td>\n",
       "</tr>\n",
       "<tr>\n",
       "  <th>Method:</th>             <td>Least Squares</td>  <th>  F-statistic:       </th> <td>   20.83</td>\n",
       "</tr>\n",
       "<tr>\n",
       "  <th>Date:</th>             <td>Mon, 15 Feb 2021</td> <th>  Prob (F-statistic):</th> <td>3.49e-05</td>\n",
       "</tr>\n",
       "<tr>\n",
       "  <th>Time:</th>                 <td>22:29:47</td>     <th>  Log-Likelihood:    </th> <td> -629.43</td>\n",
       "</tr>\n",
       "<tr>\n",
       "  <th>No. Observations:</th>      <td>    50</td>      <th>  AIC:               </th> <td>   1263.</td>\n",
       "</tr>\n",
       "<tr>\n",
       "  <th>Df Residuals:</th>          <td>    48</td>      <th>  BIC:               </th> <td>   1267.</td>\n",
       "</tr>\n",
       "<tr>\n",
       "  <th>Df Model:</th>              <td>     1</td>      <th>                     </th>     <td> </td>   \n",
       "</tr>\n",
       "<tr>\n",
       "  <th>Covariance Type:</th>      <td>nonrobust</td>    <th>                     </th>     <td> </td>   \n",
       "</tr>\n",
       "</table>\n",
       "<table class=\"simpletable\">\n",
       "<tr>\n",
       "    <td></td>       <th>coef</th>     <th>std err</th>      <th>t</th>      <th>P>|t|</th>  <th>[0.025</th>    <th>0.975]</th>  \n",
       "</tr>\n",
       "<tr>\n",
       "  <th>const</th> <td>-1.744e+06</td> <td> 3.98e+05</td> <td>   -4.385</td> <td> 0.000</td> <td>-2.54e+06</td> <td>-9.45e+05</td>\n",
       "</tr>\n",
       "<tr>\n",
       "  <th>x1</th>    <td>  986.6172</td> <td>  216.170</td> <td>    4.564</td> <td> 0.000</td> <td>  551.979</td> <td> 1421.256</td>\n",
       "</tr>\n",
       "</table>\n",
       "<table class=\"simpletable\">\n",
       "<tr>\n",
       "  <th>Omnibus:</th>       <td>62.790</td> <th>  Durbin-Watson:     </th> <td>   2.125</td> \n",
       "</tr>\n",
       "<tr>\n",
       "  <th>Prob(Omnibus):</th> <td> 0.000</td> <th>  Jarque-Bera (JB):  </th> <td> 597.283</td> \n",
       "</tr>\n",
       "<tr>\n",
       "  <th>Skew:</th>          <td> 3.110</td> <th>  Prob(JB):          </th> <td>2.00e-130</td>\n",
       "</tr>\n",
       "<tr>\n",
       "  <th>Kurtosis:</th>      <td>18.748</td> <th>  Cond. No.          </th> <td>7.15e+04</td> \n",
       "</tr>\n",
       "</table><br/><br/>Notes:<br/>[1] Standard Errors assume that the covariance matrix of the errors is correctly specified.<br/>[2] The condition number is large, 7.15e+04. This might indicate that there are<br/>strong multicollinearity or other numerical problems."
      ],
      "text/plain": [
       "<class 'statsmodels.iolib.summary.Summary'>\n",
       "\"\"\"\n",
       "                            OLS Regression Results                            \n",
       "==============================================================================\n",
       "Dep. Variable:                      y   R-squared:                       0.303\n",
       "Model:                            OLS   Adj. R-squared:                  0.288\n",
       "Method:                 Least Squares   F-statistic:                     20.83\n",
       "Date:                Mon, 15 Feb 2021   Prob (F-statistic):           3.49e-05\n",
       "Time:                        22:29:47   Log-Likelihood:                -629.43\n",
       "No. Observations:                  50   AIC:                             1263.\n",
       "Df Residuals:                      48   BIC:                             1267.\n",
       "Df Model:                           1                                         \n",
       "Covariance Type:            nonrobust                                         \n",
       "==============================================================================\n",
       "                 coef    std err          t      P>|t|      [0.025      0.975]\n",
       "------------------------------------------------------------------------------\n",
       "const      -1.744e+06   3.98e+05     -4.385      0.000   -2.54e+06   -9.45e+05\n",
       "x1           986.6172    216.170      4.564      0.000     551.979    1421.256\n",
       "==============================================================================\n",
       "Omnibus:                       62.790   Durbin-Watson:                   2.125\n",
       "Prob(Omnibus):                  0.000   Jarque-Bera (JB):              597.283\n",
       "Skew:                           3.110   Prob(JB):                    2.00e-130\n",
       "Kurtosis:                      18.748   Cond. No.                     7.15e+04\n",
       "==============================================================================\n",
       "\n",
       "Notes:\n",
       "[1] Standard Errors assume that the covariance matrix of the errors is correctly specified.\n",
       "[2] The condition number is large, 7.15e+04. This might indicate that there are\n",
       "strong multicollinearity or other numerical problems.\n",
       "\"\"\""
      ]
     },
     "execution_count": 7,
     "metadata": {},
     "output_type": "execute_result"
    }
   ],
   "source": [
    "X2 = sm.add_constant(X)\n",
    "est = sm.OLS(y,X2).fit()\n",
    "est.summary()"
   ]
  },
  {
   "cell_type": "markdown",
   "metadata": {},
   "source": [
    "The p-value is <0.05 and hence the coefficient is significant\n",
    "\n",
    "Below is the plot that shows the linear trend"
   ]
  },
  {
   "cell_type": "code",
   "execution_count": 8,
   "metadata": {},
   "outputs": [
    {
     "data": {
      "image/png": "[encoded data removed]",
      "text/plain": [
       "<Figure size 432x288 with 1 Axes>"
      ]
     },
     "metadata": {
      "needs_background": "light"
     },
     "output_type": "display_data"
    }
   ],
   "source": [
    "plt.scatter(X,y,color=\"black\")\n",
    "plt.plot(X,model.predict(X),color=\"red\",linewidth = 3)\n",
    "plt.show()"
   ]
  },
  {
   "cell_type": "markdown",
   "metadata": {},
   "source": [
    "The only outliers are Alaska and Hawaii that got admitted pretty late but have very high and very less areas"
   ]
  }
 ],
 "metadata": {
  "kernelspec": {
   "display_name": "Python 3",
   "language": "python",
   "name": "python3"
  },
  "language_info": {
   "codemirror_mode": {
    "name": "ipython",
    "version": 3
   },
   "file_extension": ".py",
   "mimetype": "text/x-python",
   "name": "python",
   "nbconvert_exporter": "python",
   "pygments_lexer": "ipython3",
   "version": "3.7.1"
  }
 },
 "nbformat": 4,
 "nbformat_minor": 2
}
